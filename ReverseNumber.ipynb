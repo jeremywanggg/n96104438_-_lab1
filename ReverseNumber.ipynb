{
 "cells": [
  {
   "cell_type": "code",
   "execution_count": 1,
   "id": "be87ba88",
   "metadata": {},
   "outputs": [
    {
     "name": "stdout",
     "output_type": "stream",
     "text": [
      "Enter an interger:12346\n",
      "64321\n"
     ]
    }
   ],
   "source": [
    "##Exercise 2\n",
    "def reverse(number):                    #reverse定義\n",
    "    rev = ''                            #建立一個空的字串，等一下能把數字傳回來\n",
    "    while (number):                     #例如 456/10 的餘數為 6\n",
    "        r = number % 10                 #456/10為 45，把number存成新的 456 變成 45\n",
    "        number = number // 10           #把剛剛的餘數回傳到字串內，重複以上動作\n",
    "        rev += str(r)                   #迴圈結束後印出數列 \n",
    "    print(rev)  \n",
    "    \n",
    "num = int(input('Enter an interger:'))\n",
    "reverse(num)"
   ]
  },
  {
   "cell_type": "code",
   "execution_count": null,
   "id": "4f1a84cc",
   "metadata": {},
   "outputs": [],
   "source": []
  }
 ],
 "metadata": {
  "kernelspec": {
   "display_name": "Python 3",
   "language": "python",
   "name": "python3"
  },
  "language_info": {
   "codemirror_mode": {
    "name": "ipython",
    "version": 3
   },
   "file_extension": ".py",
   "mimetype": "text/x-python",
   "name": "python",
   "nbconvert_exporter": "python",
   "pygments_lexer": "ipython3",
   "version": "3.8.8"
  }
 },
 "nbformat": 4,
 "nbformat_minor": 5
}
