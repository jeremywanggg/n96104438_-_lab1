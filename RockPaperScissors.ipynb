{
 "cells": [
  {
   "cell_type": "code",
   "execution_count": 1,
   "id": "23b4df38",
   "metadata": {},
   "outputs": [
    {
     "name": "stdout",
     "output_type": "stream",
     "text": [
      "Welcome to ROCK, PAPER ,SCISSORS game!\n",
      "Enter your move: (r)cok (p)aper (s)cissorsr\n",
      "ROCK versus...\n",
      "PAPER\n",
      "You lose!\n",
      "Enter your move: (r)cok (p)aper (s)cissorsr\n",
      "ROCK versus...\n",
      "ROCK\n",
      "It is a tie!\n",
      "Enter your move: (r)cok (p)aper (s)cissorsr\n",
      "ROCK versus...\n",
      "PAPER\n",
      "You lose!\n",
      "Enter your move: (r)cok (p)aper (s)cissorsr\n",
      "ROCK versus...\n",
      "SCISSORS\n",
      "You win!\n",
      "You have 1 ties and 2 losses before your first win.\n"
     ]
    }
   ],
   "source": [
    "##Exercise 1\n",
    "\n",
    "print('Welcome to ROCK, PAPER ,SCISSORS game!')\n",
    "import random\n",
    "\n",
    "guess_list = ['SCISSORS', 'ROCK', 'PAPER'] \n",
    "#以List順序的方式代表剪刀 石頭 布\n",
    "#guess_list[0]=scissors\n",
    "#guess_list[1]=rock\n",
    "#guess_list[2]=paper\n",
    "\n",
    "count_ties = 0\n",
    "count_lose = 0\n",
    "count_win  = 0\n",
    "while True:\n",
    "    random_int = random.randint(0,2)   \n",
    "    guest=input('Enter your move: (r)cok (p)aper (s)cissors')\n",
    "    computer = guess_list[random_int]   #電腦隨機輸入0 1 2代表輸入剪刀 石頭 布\n",
    "    if (guest == 'r'):                  #定義我們輸入的 r為石頭 p為布 s為剪刀\n",
    "        guest = 'ROCK'\n",
    "    elif (guest == 'p'):\n",
    "        guest = 'PAPER'\n",
    "    else:\n",
    "        guest = 'SCISSORS'\n",
    "    print(guest + ' versus...')\n",
    "    print(computer)\n",
    "    \n",
    "    if (guest == computer):                                  #條件設定 : 假如平手 平手次數+1\n",
    "        count_ties += 1\n",
    "        print('It is a tie!')\n",
    "    elif ((guest == 'ROCK' and computer == 'SCISSORS') or    #條件設定 : 贏的條件 並且停止迴圈\n",
    "          (guest == 'SCISSORS' and computer == 'PAPER') or\n",
    "          (guest == 'PAPER' and computer == 'ROCK')):\n",
    "           break\n",
    "    else:                                                    #條件設定 : 假如輸了 輸的次數+1\n",
    "        count_lose += 1\n",
    "        print('You lose!')\n",
    "        \n",
    "print('You win!')\n",
    "print('You have ' + str(count_ties) + ' ties and ' + str(count_lose) + ' losses before your first win.')"
   ]
  },
  {
   "cell_type": "code",
   "execution_count": null,
   "id": "3ea9b5cc",
   "metadata": {},
   "outputs": [],
   "source": []
  }
 ],
 "metadata": {
  "kernelspec": {
   "display_name": "Python 3",
   "language": "python",
   "name": "python3"
  },
  "language_info": {
   "codemirror_mode": {
    "name": "ipython",
    "version": 3
   },
   "file_extension": ".py",
   "mimetype": "text/x-python",
   "name": "python",
   "nbconvert_exporter": "python",
   "pygments_lexer": "ipython3",
   "version": "3.8.8"
  }
 },
 "nbformat": 4,
 "nbformat_minor": 5
}
