{
 "cells": [
  {
   "cell_type": "code",
   "execution_count": 3,
   "id": "310cd9cf",
   "metadata": {},
   "outputs": [
    {
     "name": "stdout",
     "output_type": "stream",
     "text": [
      "Enter the number of smallest and largest values to remove:2\n",
      "Enter a value (q or Q to quit):1\n",
      "Enter a value (q or Q to quit):6\n",
      "Enter a value (q or Q to quit):66\n",
      "Enter a value (q or Q to quit):999\n",
      "Enter a value (q or Q to quit):665\n",
      "Enter a value (q or Q to quit):44\n",
      "Enter a value (q or Q to quit):3\n",
      "Enter a value (q or Q to quit):5\n",
      "Enter a value (q or Q to quit):7\n",
      "Enter a value (q or Q to quit):q\n",
      "The original data:  [1, 6, 66, 999, 665, 44, 3, 5, 7]\n",
      "The data with the outliers removed:  [5, 6, 7, 44, 66]\n",
      "The outliers:  [1, 3, 665, 999]\n"
     ]
    }
   ],
   "source": [
    "##Exercise 3\n",
    "\n",
    "count = int(input('Enter the number of smallest and largest values to remove:'))\n",
    "user_list = []\n",
    "outliers = []\n",
    "removed_outlier = []\n",
    "\n",
    "while True:\n",
    "    user_input = input('Enter a value (q or Q to quit):')      #建立迴圈\n",
    "    if (user_input == 'Q' or user_input == 'q'):               #條件設定: 輸入 Q 或者 q 會停止迴圈\n",
    "        break\n",
    "    else:\n",
    "        user_list.append(int(user_input))                      #若不是輸入 Q 或 q 則把輸入的數字加進list裡\n",
    "\n",
    "print('The original data: ', user_list)                        #以list方式印出剛剛所有輸入的數字\n",
    "user_list.sort()                                               #並且讓他由小到大排序\n",
    "    \n",
    "if (count > len(user_list)):                                   #條件設定假如輸入的數字比要移除的還少，不會移除\n",
    "    outliers = user_list\n",
    "else:                                                          #這邊以新的lsit(removed_outlier)來運作才不會變更到原本的user_list\n",
    "    removed_outlier = user_list                                #剩下的狀況因為有排序的關係 pop(0) 跟 pop(-1) 會把原本輸入的lsit前後\n",
    "    for i in range (count):                                    #移除掉並且以 min_value 和 max_value 為新的變數儲存移除掉的數值\n",
    "        min_value = removed_outlier.pop(0)                     #再將這些數值加入 outliers 這個 lsit 裡面\n",
    "        max_value = removed_outlier.pop(-1)                    #\n",
    "        outliers.append(max_value)                             #\n",
    "        outliers.append(min_value)\n",
    "\n",
    "outliers.sort()                                                #將其重新排序即可印出結果\n",
    "\n",
    "print('The data with the outliers removed: ', removed_outlier)\n",
    "print('The outliers: ', outliers)"
   ]
  },
  {
   "cell_type": "code",
   "execution_count": null,
   "id": "8490f87b",
   "metadata": {},
   "outputs": [],
   "source": []
  }
 ],
 "metadata": {
  "kernelspec": {
   "display_name": "Python 3",
   "language": "python",
   "name": "python3"
  },
  "language_info": {
   "codemirror_mode": {
    "name": "ipython",
    "version": 3
   },
   "file_extension": ".py",
   "mimetype": "text/x-python",
   "name": "python",
   "nbconvert_exporter": "python",
   "pygments_lexer": "ipython3",
   "version": "3.8.8"
  }
 },
 "nbformat": 4,
 "nbformat_minor": 5
}
